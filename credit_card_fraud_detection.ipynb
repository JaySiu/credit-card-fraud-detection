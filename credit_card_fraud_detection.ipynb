{
 "cells": [
  {
   "cell_type": "markdown",
   "metadata": {},
   "source": [
    "**CREDIT CARD FRAUD DETECTION**\n",
    "===="
   ]
  },
  {
   "cell_type": "markdown",
   "metadata": {},
   "source": [
    "# Part 1: Reading the input data file and storing to DataFrame"
   ]
  },
  {
   "cell_type": "code",
   "execution_count": 5,
   "metadata": {
    "collapsed": false,
    "scrolled": true
   },
   "outputs": [],
   "source": [
    "from pyspark.sql.types import *\n",
    "import sys\n",
    "import os\n",
    "sqlContext = SQLContext(sc)"
   ]
  },
  {
   "cell_type": "markdown",
   "metadata": {},
   "source": [
    "###Read input file and convert it to RDD.\n",
    "1. Read from file system\n",
    "2. split columns\n",
    "3. filter header\n",
    "4. filter empty rows"
   ]
  },
  {
   "cell_type": "code",
   "execution_count": 6,
   "metadata": {
    "collapsed": false
   },
   "outputs": [],
   "source": [
    "filename = '/vagrant/PS_20174392719_1491204439457_log.csv'\n",
    "\n",
    "def convertToTransactionSchema(arr):\n",
    "    res = arr\n",
    "    res[0] = int(arr[0]) # step\n",
    "    res[2] = float(arr[2]) # amount\n",
    "    res[4] = float(arr[4]) # old balance\n",
    "    res[5] = float(arr[5]) # new balance\n",
    "    res[7] = float(arr[7]) # old balance destination\n",
    "    res[8] = float(arr[8]) # new balance destination\n",
    "    res[9] = int(arr[9]) # is fraud\n",
    "    res[10] = int(arr[10]) # is flagged fraud\n",
    "    return res\n",
    "\n",
    "transactionsRDD = (sc.textFile(filename)\n",
    "       .map(lambda line: line.split(\",\"))\n",
    "       .filter(lambda line: line[0] != \"step\")\n",
    "       .filter(lambda line: len(line)>1)\n",
    "       .map(convertToTransactionSchema))"
   ]
  },
  {
   "cell_type": "markdown",
   "metadata": {
    "collapsed": false,
    "scrolled": true
   },
   "source": [
    "###Convert transactionsRDD into DataFrame and cache it."
   ]
  },
  {
   "cell_type": "code",
   "execution_count": 7,
   "metadata": {
    "collapsed": false,
    "scrolled": true
   },
   "outputs": [
    {
     "name": "stdout",
     "output_type": "stream",
     "text": [
      "[Row(step=1, type=u'PAYMENT', amount=9839.6396484375, nameOrig=u'C1231006815', oldbalanceOrig=170136.0, newbalanceOrig=160296.359375, nameDest=u'M1979787155', oldbalanceDest=0.0, newbalanceDest=0.0, isFraud=0, isFlaggedFraud=0), Row(step=1, type=u'PAYMENT', amount=1864.280029296875, nameOrig=u'C1666544295', oldbalanceOrig=21249.0, newbalanceOrig=19384.720703125, nameDest=u'M2044282225', oldbalanceDest=0.0, newbalanceDest=0.0, isFraud=0, isFlaggedFraud=0)]\n"
     ]
    }
   ],
   "source": [
    "transactionSchema = StructType([\n",
    "    StructField(\"step\", IntegerType(), True),\n",
    "    StructField(\"type\", StringType(), True),\n",
    "    StructField(\"amount\", FloatType(), True),\n",
    "    StructField(\"nameOrig\", StringType(), True),\n",
    "    StructField(\"oldbalanceOrig\", FloatType(), True),\n",
    "    StructField(\"newbalanceOrig\", FloatType(), True),\n",
    "    StructField(\"nameDest\", StringType(), True),\n",
    "    StructField(\"oldbalanceDest\", FloatType(), True),\n",
    "    StructField(\"newbalanceDest\", FloatType(), True),\n",
    "    StructField(\"isFraud\", IntegerType(), True),\n",
    "    StructField(\"isFlaggedFraud\", IntegerType(), True)])\n",
    "\n",
    "transactionsDF = sqlContext.createDataFrame(transactionsRDD, transactionSchema)\n",
    "transactionsDF.cache()\n",
    "print transactionsDF.take(2)"
   ]
  },
  {
   "cell_type": "markdown",
   "metadata": {},
   "source": [
    "###Check if the DataFrame is cached."
   ]
  },
  {
   "cell_type": "code",
   "execution_count": 8,
   "metadata": {
    "collapsed": false
   },
   "outputs": [
    {
     "data": {
      "text/plain": [
       "True"
      ]
     },
     "execution_count": 8,
     "metadata": {},
     "output_type": "execute_result"
    }
   ],
   "source": [
    "transactionsDF.is_cached"
   ]
  },
  {
   "cell_type": "markdown",
   "metadata": {},
   "source": [
    "# Part 2: Data Cleaning"
   ]
  },
  {
   "cell_type": "markdown",
   "metadata": {},
   "source": [
    "###The purpose of data cleaning is to check if there is any invalid or missing values, and eliminate those reords."
   ]
  },
  {
   "cell_type": "markdown",
   "metadata": {},
   "source": [
    "###Print the datatype for each column."
   ]
  },
  {
   "cell_type": "code",
   "execution_count": 9,
   "metadata": {
    "collapsed": false
   },
   "outputs": [
    {
     "name": "stdout",
     "output_type": "stream",
     "text": [
      "root\n",
      " |-- step: integer (nullable = true)\n",
      " |-- type: string (nullable = true)\n",
      " |-- amount: float (nullable = true)\n",
      " |-- nameOrig: string (nullable = true)\n",
      " |-- oldbalanceOrig: float (nullable = true)\n",
      " |-- newbalanceOrig: float (nullable = true)\n",
      " |-- nameDest: string (nullable = true)\n",
      " |-- oldbalanceDest: float (nullable = true)\n",
      " |-- newbalanceDest: float (nullable = true)\n",
      " |-- isFraud: integer (nullable = true)\n",
      " |-- isFlaggedFraud: integer (nullable = true)\n",
      "\n",
      "None\n"
     ]
    }
   ],
   "source": [
    "print transactionsDF.printSchema()"
   ]
  },
  {
   "cell_type": "markdown",
   "metadata": {},
   "source": [
    "###We need to check each column for invalid values. The set of invalid values depends on the data type of the columns:\n",
    "1. For columns with string type: empty or null values.\n",
    "2. Otherwise: null or minus values.\n",
    "\n",
    "###Firstly, we need to get columns that has 'string' datatype and store it in a variable."
   ]
  },
  {
   "cell_type": "code",
   "execution_count": 10,
   "metadata": {
    "collapsed": false
   },
   "outputs": [
    {
     "name": "stdout",
     "output_type": "stream",
     "text": [
      "['type', 'nameOrig', 'nameDest']\n"
     ]
    }
   ],
   "source": [
    "stringCols = []\n",
    "for (colName, colType) in transactionsDF.dtypes:\n",
    "    if(colType == 'string'):\n",
    "        stringCols.append(colName)\n",
    "        \n",
    "print stringCols"
   ]
  },
  {
   "cell_type": "markdown",
   "metadata": {},
   "source": [
    "###Then, we count the number of invalid values in each column and show the result."
   ]
  },
  {
   "cell_type": "code",
   "execution_count": 11,
   "metadata": {
    "collapsed": false
   },
   "outputs": [
    {
     "name": "stdout",
     "output_type": "stream",
     "text": [
      "step\n",
      "type\n",
      "amount\n",
      "nameOrig\n",
      "oldbalanceOrig\n",
      "newbalanceOrig\n",
      "nameDest\n",
      "oldbalanceDest\n",
      "newbalanceDest\n",
      "isFraud\n",
      "isFlaggedFraud\n",
      "+----+----+------+--------+--------------+--------------+--------+--------------+--------------+-------+--------------+\n",
      "|step|type|amount|nameOrig|oldbalanceOrig|newbalanceOrig|nameDest|oldbalanceDest|newbalanceDest|isFraud|isFlaggedFraud|\n",
      "+----+----+------+--------+--------------+--------------+--------+--------------+--------------+-------+--------------+\n",
      "|   0|   0|     0|       0|             0|             0|       0|             0|             0|      0|             0|\n",
      "+----+----+------+--------+--------------+--------------+--------+--------------+--------------+-------+--------------+\n",
      "\n"
     ]
    }
   ],
   "source": [
    "from pyspark.sql.functions import *\n",
    "from pyspark.sql import *\n",
    "#from IPython.display import display\n",
    "\n",
    "def isInvalidValue(colName):\n",
    "    print(colName)\n",
    "    if colName in stringCols:\n",
    "        return (col(colName).isNull() | (col(colName) == ''))\n",
    "    else:\n",
    "        return (col(colName).isNull() | (col(colName) < 0))\n",
    "\n",
    "transactionsDF.select([count(when(isInvalidValue(c), c)).alias(c) for c in transactionsDF.columns]).show()"
   ]
  },
  {
   "cell_type": "markdown",
   "metadata": {},
   "source": [
    "###As shown, the dataset does not contain any invalid values so we do not need to elminate any records."
   ]
  },
  {
   "cell_type": "markdown",
   "metadata": {},
   "source": [
    "## Part 3: Exploring the dataset"
   ]
  },
  {
   "cell_type": "markdown",
   "metadata": {},
   "source": [
    "###First, we would explore some basic information in the dataset:\n",
    "\n",
    "1. Number of fraudulent transactions\n",
    "2. Types of the fraudulent transactions\n",
    "3. What determines whether the feature isFlaggedFraud gets set or not?\n",
    "4. Statistics of each column\n",
    "5. Correllation analysis"
   ]
  },
  {
   "cell_type": "markdown",
   "metadata": {},
   "source": [
    "###1. Number and percentage of fraudulent transactions and show the records"
   ]
  },
  {
   "cell_type": "code",
   "execution_count": 12,
   "metadata": {
    "collapsed": false
   },
   "outputs": [
    {
     "name": "stdout",
     "output_type": "stream",
     "text": [
      "+----+--------+---------+-----------+--------------+--------------+-----------+--------------+--------------+-------+--------------+\n",
      "|step|    type|   amount|   nameOrig|oldbalanceOrig|newbalanceOrig|   nameDest|oldbalanceDest|newbalanceDest|isFraud|isFlaggedFraud|\n",
      "+----+--------+---------+-----------+--------------+--------------+-----------+--------------+--------------+-------+--------------+\n",
      "|   1|TRANSFER|    181.0|C1305486145|         181.0|           0.0| C553264065|           0.0|           0.0|      1|             0|\n",
      "|   1|CASH_OUT|    181.0| C840083671|         181.0|           0.0|  C38997010|       21182.0|           0.0|      1|             0|\n",
      "|   1|TRANSFER|   2806.0|C1420196421|        2806.0|           0.0| C972765878|           0.0|           0.0|      1|             0|\n",
      "|   1|CASH_OUT|   2806.0|C2101527076|        2806.0|           0.0|C1007251739|       26202.0|           0.0|      1|             0|\n",
      "|   1|TRANSFER|  20128.0| C137533655|       20128.0|           0.0|C1848415041|           0.0|           0.0|      1|             0|\n",
      "|   1|CASH_OUT|  20128.0|C1118430673|       20128.0|           0.0| C339924917|        6268.0|      12145.85|      1|             0|\n",
      "|   1|CASH_OUT|416001.34| C749981943|           0.0|           0.0| C667346055|         102.0|     9291620.0|      1|             0|\n",
      "|   1|TRANSFER|1277212.8|C1334405552|     1277212.8|           0.0| C431687661|           0.0|           0.0|      1|             0|\n",
      "|   1|CASH_OUT|1277212.8| C467632528|     1277212.8|           0.0| C716083600|           0.0|     2444985.2|      1|             0|\n",
      "|   1|TRANSFER| 35063.63|C1364127192|      35063.63|           0.0|C1136419747|           0.0|           0.0|      1|             0|\n",
      "|   1|CASH_OUT| 35063.63|C1635772897|      35063.63|           0.0|C1983025922|       31140.0|       7550.03|      1|             0|\n",
      "|   1|TRANSFER| 25071.46| C669700766|      25071.46|           0.0|C1384210339|           0.0|           0.0|      1|             0|\n",
      "|   1|CASH_OUT| 25071.46|C1275464847|      25071.46|           0.0|C1364913072|       9083.76|      34155.22|      1|             0|\n",
      "|   1|CASH_OUT|132842.64|  C13692003|       4499.08|           0.0| C297927961|           0.0|     132842.64|      1|             0|\n",
      "|   1|TRANSFER|235238.66|C1872047468|     235238.66|           0.0| C116289363|           0.0|           0.0|      1|             0|\n",
      "|   1|CASH_OUT|235238.66|C1499825229|     235238.66|           0.0|C2100440237|           0.0|     235238.66|      1|             0|\n",
      "|   2|TRANSFER|1096187.2|C1093223281|     1096187.2|           0.0|C2063275841|           0.0|           0.0|      1|             0|\n",
      "|   2|CASH_OUT|1096187.2|  C77163673|     1096187.2|           0.0| C644345897|           0.0|     1096187.2|      1|             0|\n",
      "|   2|TRANSFER| 963532.1|C1440057381|      963532.1|           0.0| C268086000|           0.0|           0.0|      1|             0|\n",
      "|   2|CASH_OUT| 963532.1| C430329518|      963532.1|           0.0| C991505714|     132382.56|     1095914.8|      1|             0|\n",
      "+----+--------+---------+-----------+--------------+--------------+-----------+--------------+--------------+-------+--------------+\n",
      "only showing top 20 rows\n",
      "\n",
      "The total number of fraudulent records =  8213\n",
      "The percentage of fraudulent records = 0.129082%\n"
     ]
    }
   ],
   "source": [
    "fraudulentTransactions = transactionsDF.filter(transactionsDF.isFraud == 1)\n",
    "fraudulentTransactions.show()\n",
    "print \"The total number of fraudulent records = \", fraudulentTransactions.count()\n",
    "print \"The percentage of fraudulent records = %f%%\" % ( float(fraudulentTransactions.count())/transactionsDF.count()*100)"
   ]
  },
  {
   "cell_type": "markdown",
   "metadata": {},
   "source": [
    "###2. Types of the fraudulent transactions"
   ]
  },
  {
   "cell_type": "code",
   "execution_count": 13,
   "metadata": {
    "collapsed": false
   },
   "outputs": [
    {
     "name": "stdout",
     "output_type": "stream",
     "text": [
      "+--------+-----+\n",
      "|    type|count|\n",
      "+--------+-----+\n",
      "|CASH_OUT| 4116|\n",
      "|TRANSFER| 4097|\n",
      "+--------+-----+\n",
      "\n"
     ]
    }
   ],
   "source": [
    "fraudulentTransactions.groupBy(fraudulentTransactions.type).count().show()"
   ]
  },
  {
   "cell_type": "markdown",
   "metadata": {},
   "source": [
    "We can see there are two fradulent types of transactions, `CASH_OUT` and `TRANSFER`."
   ]
  },
  {
   "cell_type": "markdown",
   "metadata": {},
   "source": [
    "###3. What determines whether the feature `isFlaggedFraud` gets set or not?\n",
    "In the overview of the dataset, `isFlaggedFraud` is defined as: \"An illegal attempt in this dataset is an attempt to transfer more than 200,000 in a single transaction.\" Now, we will check if the dataset agrees to the description given."
   ]
  },
  {
   "cell_type": "code",
   "execution_count": 27,
   "metadata": {
    "collapsed": false
   },
   "outputs": [
    {
     "name": "stdout",
     "output_type": "stream",
     "text": [
      "The transaction types available are: \n",
      "\n",
      "TRANSFER\n",
      "\n",
      "CASH_IN\n",
      "\n",
      "DEBIT\n",
      "\n",
      "PAYMENT\n",
      "\n",
      "CASH_OUT\n",
      "\n",
      "The type of transactions in which isFlaggedFraud is set:\n",
      "\n",
      "TRANSFER\n",
      "\n"
     ]
    }
   ],
   "source": [
    "dfFlagged = transactionsDF.filter(transactionsDF.isFlaggedFraud == 1).cache()\n",
    "flaggedTypes = dfFlagged.map(lambda x: x.type).distinct()\n",
    "allTypes = transactionsDF.map(lambda x: x.type).distinct()\n",
    "\n",
    "print('The transaction types available are: \\n')\n",
    "for t in allTypes.collect():\n",
    "    print(t + '\\n')\n",
    "\n",
    "print('The type of transactions in which isFlaggedFraud is set:\\n')\n",
    "for t in flaggedTypes.collect():\n",
    "    print(t + '\\n')"
   ]
  },
  {
   "cell_type": "markdown",
   "metadata": {},
   "source": [
    "Out of `TRANSFER`, `CASH_IN`, `DEBIT`, `PAYMENT`, and `CASH_OUT`, only `TRANSFER` type gets the `isFlaggedFraud` set as 1 (true). This still agrees with the description in the dataset overview. Now, we will check the minimum amount of money transferred in the transaction that has `isFlaggedFraud` set."
   ]
  },
  {
   "cell_type": "code",
   "execution_count": 40,
   "metadata": {
    "collapsed": false
   },
   "outputs": [
    {
     "name": "stdout",
     "output_type": "stream",
     "text": [
      "Minimum amount transferred when isFlaggedFraud is set: 353874.21875\n"
     ]
    }
   ],
   "source": [
    "print('Minimum amount transferred when isFlaggedFraud is set: ' +\n",
    "      str(dfFlagged.map(lambda x: x.amount).min()))"
   ]
  },
  {
   "cell_type": "markdown",
   "metadata": {},
   "source": [
    "This result contradicts with the description that says any money transfer above 200,000 is flagged as fraud. Also, we already have another column `isFraud` which is the actual value whether or not the transaction is a fraud. This value should be the only benchmark and `isFlaggedFraud` is redundant, so we will drop this column."
   ]
  },
  {
   "cell_type": "code",
   "execution_count": 42,
   "metadata": {
    "collapsed": false
   },
   "outputs": [
    {
     "data": {
      "text/plain": [
       "DataFrame[step: int, type: string, amount: float, nameOrig: string, oldbalanceOrig: float, newbalanceOrig: float, nameDest: string, oldbalanceDest: float, newbalanceDest: float, isFraud: int]"
      ]
     },
     "execution_count": 42,
     "metadata": {},
     "output_type": "execute_result"
    }
   ],
   "source": [
    "# Drop 'isFlaggedFraud'\n",
    "transactionsDF.drop('isFlaggedFraud')"
   ]
  },
  {
   "cell_type": "markdown",
   "metadata": {},
   "source": [
    "###4. General Statistics\n",
    "Here are some general statistics to give us a better idea of how the data looks like. First, let's take a look at the distribution of transaction type."
   ]
  },
  {
   "cell_type": "code",
   "execution_count": 50,
   "metadata": {
    "collapsed": true
   },
   "outputs": [],
   "source": [
    "# Prepare data to show transaction type distribution\n",
    "groupedByTypes = transactionsDF.map(lambda x: (x.type, 1)).reduceByKey(lambda a, b: a + b)\n",
    "\n",
    "# Pie chart, where the slices will be ordered and plotted counter-clockwise:\n",
    "labels = groupedByTypes.map(lambda (x, y): x).collect()\n",
    "sizes = groupedByTypes.map(lambda (x, y): y).collect()"
   ]
  },
  {
   "cell_type": "code",
   "execution_count": 51,
   "metadata": {
    "collapsed": false
   },
   "outputs": [
    {
     "data": {
      "image/png": "[encoded data removed]",
      "text/plain": [
       "<matplotlib.figure.Figure at 0xb0e9b7cc>"
      ]
     },
     "metadata": {},
     "output_type": "display_data"
    }
   ],
   "source": [
    "import matplotlib.pyplot as plt\n",
    "\n",
    "fig1, ax1 = plt.subplots()\n",
    "ax1.pie(sizes, labels=labels, startangle=90)\n",
    "ax1.axis('equal')  # Equal aspect ratio ensures that pie is drawn as a circle.\n",
    "\n",
    "plt.show()"
   ]
  },
  {
   "cell_type": "markdown",
   "metadata": {},
   "source": [
    "Next we will look at the transaction amounts."
   ]
  },
  {
   "cell_type": "code",
   "execution_count": 54,
   "metadata": {
    "collapsed": false
   },
   "outputs": [
    {
     "name": "stdout",
     "output_type": "stream",
     "text": [
      "+-------+------------------+\n",
      "|summary|            amount|\n",
      "+-------+------------------+\n",
      "|  count|           6362620|\n",
      "|   mean|179861.90355799912|\n",
      "| stddev| 603858.2316772835|\n",
      "|    min|               0.0|\n",
      "|    max|        9.244552E7|\n",
      "+-------+------------------+\n",
      "\n"
     ]
    }
   ],
   "source": [
    "transactionsDF.describe('amount').show()"
   ]
  },
  {
   "cell_type": "markdown",
   "metadata": {},
   "source": [
    "###5. Correlation analysis"
   ]
  },
  {
   "cell_type": "markdown",
   "metadata": {},
   "source": [
    "## Part 4: Building the fraud detection model"
   ]
  },
  {
   "cell_type": "markdown",
   "metadata": {},
   "source": [
    "## Part 5: Evaluating the fraud detection model"
   ]
  },
  {
   "cell_type": "markdown",
   "metadata": {},
   "source": [
    "## Part 6: Analyzing the fraud detection model"
   ]
  },
  {
   "cell_type": "code",
   "execution_count": null,
   "metadata": {
    "collapsed": true
   },
   "outputs": [],
   "source": []
  }
 ],
 "metadata": {
  "anaconda-cloud": {},
  "kernelspec": {
   "display_name": "Python 2",
   "language": "python",
   "name": "python2"
  },
  "language_info": {
   "codemirror_mode": {
    "name": "ipython",
    "version": 2
   },
   "file_extension": ".py",
   "mimetype": "text/x-python",
   "name": "python",
   "nbconvert_exporter": "python",
   "pygments_lexer": "ipython2",
   "version": "2.7.6"
  }
 },
 "nbformat": 4,
 "nbformat_minor": 1
}
